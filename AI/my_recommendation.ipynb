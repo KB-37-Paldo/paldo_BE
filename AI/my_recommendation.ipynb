{
 "cells": [
  {
   "cell_type": "code",
   "execution_count": 1,
   "metadata": {},
   "outputs": [],
   "source": [
    "import pandas as pd\n",
    "import matplotlib.pyplot as plt\n",
    "%matplotlib inline\n",
    "import seaborn as sns\n",
    "from sklearn.cluster import KMeans"
   ]
  },
  {
   "cell_type": "code",
   "execution_count": null,
   "metadata": {},
   "outputs": [],
   "source": [
    "# Online 사용시\n",
    "# import os, types\n",
    "# import pandas as pd\n",
    "# from botocore.client import Config\n",
    "# import ibm_boto3\n",
    "\n",
    "# def __iter__(self): return 0\n",
    "\n",
    "# # @hidden_cell\n",
    "# # The following code accesses a file in your IBM Cloud Object Storage. It includes your credentials.\n",
    "# # You might want to remove those credentials before you share the notebook.\n",
    "\n",
    "# if os.environ.get('RUNTIME_ENV_LOCATION_TYPE') == 'external':\n",
    "#     endpoint_a2cd37142f6a4f1385640e6d0f7d33ae = 'https://s3.us.cloud-object-storage.appdomain.cloud'\n",
    "# else:\n",
    "#     endpoint_a2cd37142f6a4f1385640e6d0f7d33ae = 'https://s3.private.us.cloud-object-storage.appdomain.cloud'\n",
    "\n",
    "# client_a2cd37142f6a4f1385640e6d0f7d33ae = ibm_boto3.client(service_name='s3',\n",
    "#     ibm_api_key_id='AOkCYAcY96i7k9Kxhyr1SM0ylfrxlBmgI2MRQgICFgem',\n",
    "#     ibm_auth_endpoint=\"https://iam.cloud.ibm.com/oidc/token\",\n",
    "#     config=Config(signature_version='oauth'),\n",
    "#     endpoint_url=endpoint_a2cd37142f6a4f1385640e6d0f7d33ae)\n",
    "\n",
    "# body = client_a2cd37142f6a4f1385640e6d0f7d33ae.get_object(Bucket='testproject-donotdelete-pr-a7cyywjqdb9klp',Key='customers_orders.csv')['Body']\n",
    "# # add missing __iter__ method, so pandas accepts body as file-like object\n",
    "# if not hasattr(body, \"__iter__\"): body.__iter__ = types.MethodType( __iter__, body )\n",
    "\n",
    "# df = pd.read_csv(body)\n",
    "# df.head()\n"
   ]
  },
  {
   "cell_type": "code",
   "execution_count": 2,
   "metadata": {},
   "outputs": [
    {
     "name": "stdout",
     "output_type": "stream",
     "text": [
      "(2000, 12)\n"
     ]
    },
    {
     "data": {
      "text/html": [
       "<div>\n",
       "<style scoped>\n",
       "    .dataframe tbody tr th:only-of-type {\n",
       "        vertical-align: middle;\n",
       "    }\n",
       "\n",
       "    .dataframe tbody tr th {\n",
       "        vertical-align: top;\n",
       "    }\n",
       "\n",
       "    .dataframe thead th {\n",
       "        text-align: right;\n",
       "    }\n",
       "</style>\n",
       "<table border=\"1\" class=\"dataframe\">\n",
       "  <thead>\n",
       "    <tr style=\"text-align: right;\">\n",
       "      <th></th>\n",
       "      <th>USER_ID</th>\n",
       "      <th>FIN_ASSET_SECTION_DIV</th>\n",
       "      <th>NONFIN_ASSET_SECTION_DIV</th>\n",
       "      <th>CRM_AGE_DIV</th>\n",
       "      <th>JOB_SECTION_DIV</th>\n",
       "      <th>SIDO_DIV</th>\n",
       "      <th>FINANCE_AMOUNT</th>\n",
       "      <th>CASH_AMOUNT</th>\n",
       "      <th>ACCOUNT_AMOUNT</th>\n",
       "      <th>INVEST_AMOUNT</th>\n",
       "      <th>INSURANCE_AMOUNT</th>\n",
       "      <th>ANNUITY_AMOUNT</th>\n",
       "    </tr>\n",
       "  </thead>\n",
       "  <tbody>\n",
       "    <tr>\n",
       "      <th>0</th>\n",
       "      <td>2000000000</td>\n",
       "      <td>1.0</td>\n",
       "      <td>1.0</td>\n",
       "      <td>29.0</td>\n",
       "      <td>7.0</td>\n",
       "      <td>10.0</td>\n",
       "      <td>2.432545e+07</td>\n",
       "      <td>1.702500e+06</td>\n",
       "      <td>6810000.0</td>\n",
       "      <td>6.861365e+06</td>\n",
       "      <td>3268800.0</td>\n",
       "      <td>5.682789e+06</td>\n",
       "    </tr>\n",
       "    <tr>\n",
       "      <th>1</th>\n",
       "      <td>2000000001</td>\n",
       "      <td>4.0</td>\n",
       "      <td>2.0</td>\n",
       "      <td>50.0</td>\n",
       "      <td>12.0</td>\n",
       "      <td>10.0</td>\n",
       "      <td>7.796854e+07</td>\n",
       "      <td>4.217000e+06</td>\n",
       "      <td>33736000.0</td>\n",
       "      <td>2.060324e+07</td>\n",
       "      <td>10120800.0</td>\n",
       "      <td>9.291501e+06</td>\n",
       "    </tr>\n",
       "    <tr>\n",
       "      <th>2</th>\n",
       "      <td>2000000002</td>\n",
       "      <td>1.0</td>\n",
       "      <td>2.0</td>\n",
       "      <td>29.0</td>\n",
       "      <td>3.0</td>\n",
       "      <td>21.0</td>\n",
       "      <td>2.656856e+07</td>\n",
       "      <td>3.242000e+05</td>\n",
       "      <td>6484000.0</td>\n",
       "      <td>1.120400e+07</td>\n",
       "      <td>3242000.0</td>\n",
       "      <td>5.314363e+06</td>\n",
       "    </tr>\n",
       "    <tr>\n",
       "      <th>3</th>\n",
       "      <td>2000000003</td>\n",
       "      <td>1.0</td>\n",
       "      <td>2.0</td>\n",
       "      <td>40.0</td>\n",
       "      <td>10.0</td>\n",
       "      <td>30.0</td>\n",
       "      <td>2.963063e+07</td>\n",
       "      <td>1.896600e+06</td>\n",
       "      <td>12644000.0</td>\n",
       "      <td>1.199225e+07</td>\n",
       "      <td>3097780.0</td>\n",
       "      <td>NaN</td>\n",
       "    </tr>\n",
       "    <tr>\n",
       "      <th>4</th>\n",
       "      <td>2000000004</td>\n",
       "      <td>5.0</td>\n",
       "      <td>4.0</td>\n",
       "      <td>20.0</td>\n",
       "      <td>12.0</td>\n",
       "      <td>34.0</td>\n",
       "      <td>2.749925e+08</td>\n",
       "      <td>2.111000e+07</td>\n",
       "      <td>84440000.0</td>\n",
       "      <td>7.574282e+07</td>\n",
       "      <td>23643200.0</td>\n",
       "      <td>7.005648e+07</td>\n",
       "    </tr>\n",
       "    <tr>\n",
       "      <th>...</th>\n",
       "      <td>...</td>\n",
       "      <td>...</td>\n",
       "      <td>...</td>\n",
       "      <td>...</td>\n",
       "      <td>...</td>\n",
       "      <td>...</td>\n",
       "      <td>...</td>\n",
       "      <td>...</td>\n",
       "      <td>...</td>\n",
       "      <td>...</td>\n",
       "      <td>...</td>\n",
       "      <td>...</td>\n",
       "    </tr>\n",
       "    <tr>\n",
       "      <th>1995</th>\n",
       "      <td>2907281665</td>\n",
       "      <td>9.0</td>\n",
       "      <td>NaN</td>\n",
       "      <td>NaN</td>\n",
       "      <td>NaN</td>\n",
       "      <td>NaN</td>\n",
       "      <td>3.003484e+10</td>\n",
       "      <td>NaN</td>\n",
       "      <td>NaN</td>\n",
       "      <td>NaN</td>\n",
       "      <td>NaN</td>\n",
       "      <td>NaN</td>\n",
       "    </tr>\n",
       "    <tr>\n",
       "      <th>1996</th>\n",
       "      <td>2907281666</td>\n",
       "      <td>9.0</td>\n",
       "      <td>NaN</td>\n",
       "      <td>NaN</td>\n",
       "      <td>NaN</td>\n",
       "      <td>NaN</td>\n",
       "      <td>8.916232e+10</td>\n",
       "      <td>NaN</td>\n",
       "      <td>NaN</td>\n",
       "      <td>NaN</td>\n",
       "      <td>NaN</td>\n",
       "      <td>NaN</td>\n",
       "    </tr>\n",
       "    <tr>\n",
       "      <th>1997</th>\n",
       "      <td>2907281667</td>\n",
       "      <td>9.0</td>\n",
       "      <td>NaN</td>\n",
       "      <td>NaN</td>\n",
       "      <td>NaN</td>\n",
       "      <td>NaN</td>\n",
       "      <td>7.500888e+09</td>\n",
       "      <td>NaN</td>\n",
       "      <td>NaN</td>\n",
       "      <td>NaN</td>\n",
       "      <td>NaN</td>\n",
       "      <td>NaN</td>\n",
       "    </tr>\n",
       "    <tr>\n",
       "      <th>1998</th>\n",
       "      <td>2907281668</td>\n",
       "      <td>9.0</td>\n",
       "      <td>NaN</td>\n",
       "      <td>NaN</td>\n",
       "      <td>NaN</td>\n",
       "      <td>NaN</td>\n",
       "      <td>1.979311e+09</td>\n",
       "      <td>NaN</td>\n",
       "      <td>NaN</td>\n",
       "      <td>NaN</td>\n",
       "      <td>NaN</td>\n",
       "      <td>NaN</td>\n",
       "    </tr>\n",
       "    <tr>\n",
       "      <th>1999</th>\n",
       "      <td>2907281669</td>\n",
       "      <td>9.0</td>\n",
       "      <td>NaN</td>\n",
       "      <td>NaN</td>\n",
       "      <td>NaN</td>\n",
       "      <td>NaN</td>\n",
       "      <td>1.133223e+11</td>\n",
       "      <td>NaN</td>\n",
       "      <td>NaN</td>\n",
       "      <td>NaN</td>\n",
       "      <td>NaN</td>\n",
       "      <td>NaN</td>\n",
       "    </tr>\n",
       "  </tbody>\n",
       "</table>\n",
       "<p>2000 rows × 12 columns</p>\n",
       "</div>"
      ],
      "text/plain": [
       "         USER_ID  FIN_ASSET_SECTION_DIV  NONFIN_ASSET_SECTION_DIV  \\\n",
       "0     2000000000                    1.0                       1.0   \n",
       "1     2000000001                    4.0                       2.0   \n",
       "2     2000000002                    1.0                       2.0   \n",
       "3     2000000003                    1.0                       2.0   \n",
       "4     2000000004                    5.0                       4.0   \n",
       "...          ...                    ...                       ...   \n",
       "1995  2907281665                    9.0                       NaN   \n",
       "1996  2907281666                    9.0                       NaN   \n",
       "1997  2907281667                    9.0                       NaN   \n",
       "1998  2907281668                    9.0                       NaN   \n",
       "1999  2907281669                    9.0                       NaN   \n",
       "\n",
       "      CRM_AGE_DIV  JOB_SECTION_DIV  SIDO_DIV  FINANCE_AMOUNT   CASH_AMOUNT  \\\n",
       "0            29.0              7.0      10.0    2.432545e+07  1.702500e+06   \n",
       "1            50.0             12.0      10.0    7.796854e+07  4.217000e+06   \n",
       "2            29.0              3.0      21.0    2.656856e+07  3.242000e+05   \n",
       "3            40.0             10.0      30.0    2.963063e+07  1.896600e+06   \n",
       "4            20.0             12.0      34.0    2.749925e+08  2.111000e+07   \n",
       "...           ...              ...       ...             ...           ...   \n",
       "1995          NaN              NaN       NaN    3.003484e+10           NaN   \n",
       "1996          NaN              NaN       NaN    8.916232e+10           NaN   \n",
       "1997          NaN              NaN       NaN    7.500888e+09           NaN   \n",
       "1998          NaN              NaN       NaN    1.979311e+09           NaN   \n",
       "1999          NaN              NaN       NaN    1.133223e+11           NaN   \n",
       "\n",
       "      ACCOUNT_AMOUNT  INVEST_AMOUNT  INSURANCE_AMOUNT  ANNUITY_AMOUNT  \n",
       "0          6810000.0   6.861365e+06         3268800.0    5.682789e+06  \n",
       "1         33736000.0   2.060324e+07        10120800.0    9.291501e+06  \n",
       "2          6484000.0   1.120400e+07         3242000.0    5.314363e+06  \n",
       "3         12644000.0   1.199225e+07         3097780.0             NaN  \n",
       "4         84440000.0   7.574282e+07        23643200.0    7.005648e+07  \n",
       "...              ...            ...               ...             ...  \n",
       "1995             NaN            NaN               NaN             NaN  \n",
       "1996             NaN            NaN               NaN             NaN  \n",
       "1997             NaN            NaN               NaN             NaN  \n",
       "1998             NaN            NaN               NaN             NaN  \n",
       "1999             NaN            NaN               NaN             NaN  \n",
       "\n",
       "[2000 rows x 12 columns]"
      ]
     },
     "metadata": {},
     "output_type": "display_data"
    }
   ],
   "source": [
    "# local 사용시 실행\n",
    "df = pd.read_csv (r'TCBFDFS02_07.csv')\n",
    "print(df.shape)\n",
    "display(df)"
   ]
  },
  {
   "cell_type": "code",
   "execution_count": 3,
   "metadata": {},
   "outputs": [
    {
     "name": "stdout",
     "output_type": "stream",
     "text": [
      "['USER_ID', 'FIN_ASSET_SECTION_DIV', 'NONFIN_ASSET_SECTION_DIV', 'CRM_AGE_DIV', 'JOB_SECTION_DIV', 'SIDO_DIV', 'FINANCE_AMOUNT', 'CASH_AMOUNT', 'ACCOUNT_AMOUNT', 'INVEST_AMOUNT', 'INSURANCE_AMOUNT', 'ANNUITY_AMOUNT']\n"
     ]
    }
   ],
   "source": [
    "# read column names, 콜룸명 읽어보기\n",
    "# df.info()\n",
    "print(df.columns.values.tolist())\n",
    "# df.columns.values.tolist()"
   ]
  },
  {
   "cell_type": "code",
   "execution_count": null,
   "metadata": {},
   "outputs": [],
   "source": [
    "#delete unnecessary columns, 불필요한 콜룸 지우기\n",
    "# df.drop(['CUSTNAME',\n",
    "#  'GenderCode',\n",
    "#  'CITY',\n",
    "#  'CREDITCARD_TYPE',\n",
    "#  'ORDER_ID',\n",
    "#  'ORDER_DATE',\n",
    "#  'ORDER_TIME',\n",
    "#  'AGE',\n",
    "#  'T_TYPE',\n",
    "#  'PURCHASE_TOUCHPOINT',\n",
    "#  'PURCHASE_STATUS',\n",
    "#  'GENERATION',], axis=1,inplace=True)\n",
    "\n",
    "# print(df.shape)\n",
    "# display(df)"
   ]
  },
  {
   "cell_type": "code",
   "execution_count": 6,
   "metadata": {},
   "outputs": [
    {
     "name": "stdout",
     "output_type": "stream",
     "text": [
      "USER_ID : [2000000000 2000000001 2000000002 ... 2907281667 2907281668 2907281669]\n",
      "FIN_ASSET_SECTION_DIV : [ 1.  4.  5.  3.  2.  0.  6.  7.  9.  8. 99. nan]\n",
      "NONFIN_ASSET_SECTION_DIV : [ 1.  2.  4.  3.  0.  6.  5.  7. nan]\n",
      "CRM_AGE_DIV : [29. 50. 40. 20. 49. 45. 30. 35. 25. 65. 59. 69. 55. 60. 39.  0. nan]\n",
      "JOB_SECTION_DIV : [ 7. 12.  3. 10.  8.  9. 11.  1.  2.  4.  5. 13.  6. nan]\n",
      "SIDO_DIV : [10. 21. 30. 34.  1.  0. 31. 27. 50. 57. 24. 44. 46. 36. 54. 63. 61. 41.\n",
      " nan]\n",
      "FINANCE_AMOUNT : [2.43254547e+07 7.79685372e+07 2.65685589e+07 ... 7.50088800e+09\n",
      " 1.97931100e+09 1.13322315e+11]\n",
      "CASH_AMOUNT : [1702500.    4217000.001  324200.001 ... 7982500.    1224999.999\n",
      "         nan]\n",
      "ACCOUNT_AMOUNT : [ 6810000. 33736000.  6484000. ... 31930000.  9800000.       nan]\n",
      "INVEST_AMOUNT : [ 6861365.464 20603236.23  11203996.265 ... 34277500.325  3110398.206\n",
      "          nan]\n",
      "INSURANCE_AMOUNT : [ 3268800. 10120800.  3242000. ... 20550500. 12772000.  2940000.]\n",
      "ANNUITY_AMOUNT : [ 5682789.189  9291500.932  5314362.603 ... 44095909.065 26492709.186\n",
      "  2734308.595]\n"
     ]
    }
   ],
   "source": [
    "#Checking for wrong entries like symbols -,?,#,*,etc.\n",
    "for col in df.columns:\n",
    "    print('{} : {}'.format(col,df[col].unique()))"
   ]
  },
  {
   "cell_type": "code",
   "execution_count": 9,
   "metadata": {},
   "outputs": [
    {
     "ename": "NameError",
     "evalue": "name 'df_csv' is not defined",
     "output_type": "error",
     "traceback": [
      "\u001b[1;31m---------------------------------------------------------------------------\u001b[0m",
      "\u001b[1;31mNameError\u001b[0m                                 Traceback (most recent call last)",
      "\u001b[1;32mC:\\Users\\Public\\Documents\\ESTsoft\\CreatorTemp/ipykernel_23660/312889650.py\u001b[0m in \u001b[0;36m<module>\u001b[1;34m\u001b[0m\n\u001b[0;32m      3\u001b[0m \u001b[0mdf\u001b[0m \u001b[1;33m=\u001b[0m \u001b[0mdf\u001b[0m\u001b[1;33m.\u001b[0m\u001b[0mastype\u001b[0m\u001b[1;33m(\u001b[0m\u001b[1;34m'int64'\u001b[0m\u001b[1;33m)\u001b[0m\u001b[1;33m\u001b[0m\u001b[1;33m\u001b[0m\u001b[0m\n\u001b[0;32m      4\u001b[0m \u001b[1;31m#check if dtype has been changed\u001b[0m\u001b[1;33m\u001b[0m\u001b[1;33m\u001b[0m\u001b[1;33m\u001b[0m\u001b[0m\n\u001b[1;32m----> 5\u001b[1;33m \u001b[0mdf_csv\u001b[0m\u001b[1;33m.\u001b[0m\u001b[0minfo\u001b[0m\u001b[1;33m(\u001b[0m\u001b[1;33m)\u001b[0m\u001b[1;33m\u001b[0m\u001b[1;33m\u001b[0m\u001b[0m\n\u001b[0m",
      "\u001b[1;31mNameError\u001b[0m: name 'df_csv' is not defined"
     ]
    }
   ],
   "source": [
    "df = df.fillna(0)\n",
    "\n",
    "df = df.astype('int64')"
   ]
  },
  {
   "cell_type": "code",
   "execution_count": 11,
   "metadata": {},
   "outputs": [
    {
     "name": "stdout",
     "output_type": "stream",
     "text": [
      "<class 'pandas.core.frame.DataFrame'>\n",
      "RangeIndex: 2000 entries, 0 to 1999\n",
      "Data columns (total 12 columns):\n",
      " #   Column                    Non-Null Count  Dtype\n",
      "---  ------                    --------------  -----\n",
      " 0   USER_ID                   2000 non-null   int64\n",
      " 1   FIN_ASSET_SECTION_DIV     2000 non-null   int64\n",
      " 2   NONFIN_ASSET_SECTION_DIV  2000 non-null   int64\n",
      " 3   CRM_AGE_DIV               2000 non-null   int64\n",
      " 4   JOB_SECTION_DIV           2000 non-null   int64\n",
      " 5   SIDO_DIV                  2000 non-null   int64\n",
      " 6   FINANCE_AMOUNT            2000 non-null   int64\n",
      " 7   CASH_AMOUNT               2000 non-null   int64\n",
      " 8   ACCOUNT_AMOUNT            2000 non-null   int64\n",
      " 9   INVEST_AMOUNT             2000 non-null   int64\n",
      " 10  INSURANCE_AMOUNT          2000 non-null   int64\n",
      " 11  ANNUITY_AMOUNT            2000 non-null   int64\n",
      "dtypes: int64(12)\n",
      "memory usage: 187.6 KB\n"
     ]
    }
   ],
   "source": [
    "#check if dtype has been changed\n",
    "df.info()"
   ]
  },
  {
   "cell_type": "code",
   "execution_count": 13,
   "metadata": {},
   "outputs": [
    {
     "data": {
      "text/plain": [
       "USER_ID                     0\n",
       "FIN_ASSET_SECTION_DIV       0\n",
       "NONFIN_ASSET_SECTION_DIV    0\n",
       "CRM_AGE_DIV                 0\n",
       "JOB_SECTION_DIV             0\n",
       "SIDO_DIV                    0\n",
       "FINANCE_AMOUNT              0\n",
       "CASH_AMOUNT                 0\n",
       "ACCOUNT_AMOUNT              0\n",
       "INVEST_AMOUNT               0\n",
       "INSURANCE_AMOUNT            0\n",
       "ANNUITY_AMOUNT              0\n",
       "dtype: int64"
      ]
     },
     "execution_count": 13,
     "metadata": {},
     "output_type": "execute_result"
    }
   ],
   "source": [
    "df.isnull().sum()"
   ]
  },
  {
   "cell_type": "code",
   "execution_count": 15,
   "metadata": {},
   "outputs": [
    {
     "data": {
      "text/plain": [
       "<AxesSubplot:>"
      ]
     },
     "execution_count": 15,
     "metadata": {},
     "output_type": "execute_result"
    },
    {
     "data": {
      "image/png": "[encoded data removed]",
      "text/plain": [
       "<Figure size 720x720 with 2 Axes>"
      ]
     },
     "metadata": {
      "needs_background": "light"
     },
     "output_type": "display_data"
    }
   ],
   "source": [
    "plt.figure(figsize=(10,10))\n",
    "sns.heatmap(df.corr(),cbar=True,annot=True,cmap='Blues')"
   ]
  },
  {
   "cell_type": "code",
   "execution_count": null,
   "metadata": {},
   "outputs": [],
   "source": [
    "#sum up each customer's purchases, 구매자별 사용 제품 리스트 합산\n",
    "df = df.groupby(by=['CUST_ID'], as_index=False).sum()"
   ]
  },
  {
   "cell_type": "code",
   "execution_count": null,
   "metadata": {},
   "outputs": [],
   "source": [
    "#delet customer id column, 고객 아이디 콜룸 삭제\n",
    "df.drop(['CUST_ID'], axis=1,inplace=True)"
   ]
  },
  {
   "cell_type": "code",
   "execution_count": null,
   "metadata": {},
   "outputs": [],
   "source": [
    "#review after deletion\n",
    "print(df.shape)\n",
    "display(df)"
   ]
  },
  {
   "cell_type": "code",
   "execution_count": null,
   "metadata": {},
   "outputs": [],
   "source": [
    "plt.figure(figsize=(25,25))\n",
    "sns.heatmap(df.corr(),cbar=True,annot=True,cmap='Blues')"
   ]
  },
  {
   "cell_type": "code",
   "execution_count": null,
   "metadata": {},
   "outputs": [],
   "source": [
    "X = df[df.columns.values.tolist()].values.astype('int32')"
   ]
  },
  {
   "cell_type": "code",
   "execution_count": null,
   "metadata": {},
   "outputs": [],
   "source": [
    "# number of clusters 15(choose cluster number as number of products / 2)\n",
    "# 클러스터 15개 선택(상품 갯수 / 2로 클러스터 정함)\n",
    "num_clusters = 15\n",
    "kmeans = KMeans(n_clusters=num_clusters)\n",
    "kmeans.fit(X)"
   ]
  },
  {
   "cell_type": "code",
   "execution_count": null,
   "metadata": {},
   "outputs": [],
   "source": [
    "# predict cluster for each dataset. Used for precomputing often used product\n",
    "# 사용자별 클러스터 추측, 추후 클러스터별 많이 사용된 제품 추천에 이용\n",
    "y_kmeans = kmeans.predict(X)\n",
    "y_kmeans"
   ]
  },
  {
   "cell_type": "code",
   "execution_count": null,
   "metadata": {},
   "outputs": [],
   "source": [
    "# Make result as dataframe. (Used for review and precomputing often used products)\n",
    "# 사용자별 클러스터 추측 결과 dataframe으로 변경, 추후 클러스터별 많이 사용된 제품 추천에 이용\n",
    "df_y = pd.DataFrame(y_kmeans, columns = {\"cluster\"})\n",
    "df_y"
   ]
  },
  {
   "cell_type": "code",
   "execution_count": null,
   "metadata": {},
   "outputs": [],
   "source": [
    "# Review cluster, check distribution of users for each clusters(expect about distributed count)\n",
    "# 클러스터별 사용자 맵핑된 갯수 확인(골고루 분포면 좋음)\n",
    "sns.histplot(df_y.cluster,bins=15)"
   ]
  },
  {
   "cell_type": "code",
   "execution_count": null,
   "metadata": {},
   "outputs": [],
   "source": [
    "# Add cluster result to data frame. Used for precomputing often used products\n",
    "# 사용자별 클러스터 추측 결과 dataframe에 추가, 추후 클러스터별 많이 사용된 제품 추천에 이용\n",
    "df[\"cluster\"] = df_y[\"cluster\"]"
   ]
  },
  {
   "cell_type": "code",
   "execution_count": null,
   "metadata": {},
   "outputs": [],
   "source": [
    "# review cluster - 2\n",
    "# 상품별 \n",
    "grouped_df = df.groupby([\"cluster\"], as_index=False).sum()\n",
    "grouped_df.drop(['cluster'], axis=1,inplace=True)\n",
    "df_a = grouped_df.T\n",
    "df_a.plot(kind='barh', stacked=True, fontsize=14, figsize=[16,29], colormap='gist_rainbow')"
   ]
  },
  {
   "cell_type": "code",
   "execution_count": null,
   "metadata": {},
   "outputs": [],
   "source": [
    "#get most found item per each cluster\n",
    "for x in range(grouped_df.shape[0]):\n",
    "    df_a['rank_'+str(x)] = df_a[x].rank(method='first', ascending=False)"
   ]
  },
  {
   "cell_type": "code",
   "execution_count": null,
   "metadata": {},
   "outputs": [],
   "source": [
    "def get_rank_from_cluster(a):\n",
    "    result = []\n",
    "    for x in range(1, 6):\n",
    "        result.append(df_a[df_a['rank_'+str(a)] == x].index[0])\n",
    "    return result\n",
    "\n",
    "for x in range(15):\n",
    "    answer = get_rank_from_cluster(x)\n",
    "    print(answer)"
   ]
  },
  {
   "cell_type": "code",
   "execution_count": null,
   "metadata": {},
   "outputs": [],
   "source": []
  }
 ],
 "metadata": {
  "kernelspec": {
   "display_name": "Python 3 (ipykernel)",
   "language": "python",
   "name": "python3"
  },
  "language_info": {
   "codemirror_mode": {
    "name": "ipython",
    "version": 3
   },
   "file_extension": ".py",
   "mimetype": "text/x-python",
   "name": "python",
   "nbconvert_exporter": "python",
   "pygments_lexer": "ipython3",
   "version": "3.7.3"
  },
  "toc": {
   "base_numbering": 1,
   "nav_menu": {},
   "number_sections": true,
   "sideBar": true,
   "skip_h1_title": false,
   "title_cell": "Table of Contents",
   "title_sidebar": "Contents",
   "toc_cell": false,
   "toc_position": {},
   "toc_section_display": true,
   "toc_window_display": false
  }
 },
 "nbformat": 4,
 "nbformat_minor": 1
}
