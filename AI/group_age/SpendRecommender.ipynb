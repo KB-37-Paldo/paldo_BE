{
 "cells": [
  {
   "cell_type": "code",
   "execution_count": 121,
   "metadata": {},
   "outputs": [],
   "source": [
    "import pandas as pd\n",
    "import numpy as np\n",
    "import seaborn as sns\n",
    "import matplotlib.pyplot as plt\n",
    "%matplotlib inline"
   ]
  },
  {
   "cell_type": "code",
   "execution_count": 122,
   "metadata": {},
   "outputs": [],
   "source": [
    "df_csv = pd.read_csv (r'ageGroupToMoneyUsage.csv')"
   ]
  },
  {
   "cell_type": "code",
   "execution_count": 123,
   "metadata": {},
   "outputs": [
    {
     "name": "stdout",
     "output_type": "stream",
     "text": [
      "income : [' 2,421,921 ' ' 2,407,332 ' ' 2,105,905 ' ' 2,446,025 ' ' 2,016,589 '\n",
      " ' 2,196,920 ' ' 2,013,086 ' ' 2,062,182 ' ' 2,411,211 ' ' 2,237,972 '\n",
      " ' 2,019,079 ' ' 2,375,258 ' ' 2,492,775 ' ' 2,487,993 ' ' 2,172,291 '\n",
      " ' 2,444,981 ' ' 2,206,497 ' ' 2,051,429 ' ' 2,337,911 ' ' 2,198,495 '\n",
      " ' 2,168,550 ' ' 2,018,546 ' ' 2,220,594 ' ' 2,487,406 ' ' 2,325,448 '\n",
      " ' 2,511,513 ' ' 2,369,453 ' ' 2,337,356 ' ' 2,481,760 ' ' 2,472,460 '\n",
      " ' 2,472,999 ' ' 2,082,947 ' ' 2,127,109 ' ' 2,424,485 ' ' 2,559,312 '\n",
      " ' 2,398,528 ' ' 3,709,559 ' ' 3,744,914 ' ' 3,126,059 ' ' 3,560,372 '\n",
      " ' 3,422,231 ' ' 3,986,747 ' ' 2,818,067 ' ' 2,737,151 ' ' 3,184,884 '\n",
      " ' 2,551,279 ' ' 3,337,874 ' ' 2,581,255 ' ' 3,325,799 ' ' 2,967,568 '\n",
      " ' 2,859,593 ' ' 3,100,990 ' ' 3,977,084 ' ' 3,923,827 ' ' 3,765,411 '\n",
      " ' 3,418,978 ' ' 3,834,890 ' ' 3,394,106 ' ' 3,248,024 ' ' 2,557,151 '\n",
      " ' 3,254,967 ' ' 3,695,462 ' ' 3,901,560 ' ' 3,610,846 ' ' 3,378,590 '\n",
      " ' 2,569,486 ' ' 3,463,273 ' ' 3,162,351 ' ' 3,179,008 ' ' 3,532,540 '\n",
      " ' 3,412,857 ' ' 3,429,758 ' ' 4,002,115 ' ' 4,096,887 ' ' 4,300,212 '\n",
      " ' 4,428,756 ' ' 4,110,872 ' ' 4,435,702 ' ' 4,001,598 ' ' 4,494,927 '\n",
      " ' 4,263,899 ' ' 4,428,935 ' ' 4,291,416 ' ' 4,271,504 ' ' 4,009,680 '\n",
      " ' 4,262,894 ' ' 4,272,308 ' ' 4,217,775 ' ' 4,060,780 ' ' 4,085,520 '\n",
      " ' 4,016,160 ' ' 4,042,377 ' ' 4,172,410 ' ' 4,273,280 ' ' 4,462,883 '\n",
      " ' 4,229,229 ' ' 4,470,063 ' ' 4,369,125 ' ' 4,359,378 ' ' 4,090,236 '\n",
      " ' 4,010,226 ' ' 4,206,384 ' ' 4,582,826 ' ' 4,641,217 ' ' 4,567,695 '\n",
      " ' 4,543,073 ' ' 4,637,544 ' ' 4,508,880 ' ' 4,543,851 ' ' 4,512,051 '\n",
      " ' 4,557,767 ' ' 4,597,331 ' ' 4,552,735 ' ' 4,561,098 ' ' 4,528,500 '\n",
      " ' 4,582,287 ' ' 4,638,200 ' ' 4,581,459 ' ' 4,586,338 ' ' 4,548,893 '\n",
      " ' 4,586,978 ' ' 4,529,853 ' ' 4,617,460 ' ' 4,640,922 ' ' 4,648,325 '\n",
      " ' 4,505,092 ' ' 4,502,402 ' ' 4,621,897 ' ' 4,637,329 ' ' 4,606,983 '\n",
      " ' 4,592,515 ' ' 4,511,324 ' ' 2,117,349 ' ' 2,067,326 ' ' 2,076,243 '\n",
      " ' 2,099,848 ' ' 2,007,178 ' ' 2,031,616 ' ' 2,080,976 ' ' 1,989,500 '\n",
      " ' 2,033,815 ' ' 2,041,335 ' ' 2,116,583 ' ' 2,017,994 ' ' 2,035,152 '\n",
      " ' 2,121,433 ' ' 1,973,628 ' ' 2,074,955 ' ' 2,075,310 ' ' 2,058,138 '\n",
      " ' 2,059,176 ' ' 1,974,818 ' ' 2,060,841 ' ' 2,105,896 ' ' 2,106,030 '\n",
      " ' 2,098,010 ' ' 1,995,424 ' ' 2,039,670 ' ' 1,987,176 ' ' 2,121,250 '\n",
      " ' 1,982,184 ' ' 1,961,944 ' ' 2,008,605 ' ' 2,014,845 ' ' 2,096,546 '\n",
      " ' 2,044,129 ' ' 2,000,524 ' ' 2,064,319 ' ' 1,976,923 ' ' 1,967,711 '\n",
      " ' 2,078,444 ' ' 2,119,178 ']\n",
      "age : [20 30 40 50 60]\n",
      "card type : [ 3  2  1  5  6  4  7  8  9 10  0]\n",
      "usage : [' 1,173,910 ' ' 1,166,647 ' ' 1,359,753 ' ' 1,325,813 ' ' 1,383,335 '\n",
      " ' 1,043,990 ' ' 1,161,571 ' ' 1,338,446 ' ' 1,297,159 ' ' 1,245,481 '\n",
      " ' 1,349,321 ' ' 1,044,830 ' ' 1,297,488 ' ' 1,167,295 ' ' 1,009,959 '\n",
      " ' 1,176,827 ' ' 1,296,676 ' ' 1,303,259 ' ' 1,165,438 ' ' 1,123,091 '\n",
      " ' 1,038,342 ' ' 1,382,573 ' ' 1,225,413 ' ' 1,207,014 ' ' 1,245,069 '\n",
      " ' 1,305,609 ' ' 1,091,612 ' ' 1,383,399 ' ' 1,017,989 ' ' 1,181,116 '\n",
      " ' 1,376,256 ' ' 1,238,235 ' ' 1,330,326 ' ' 1,158,701 ' ' 1,136,562 '\n",
      " ' 1,236,312 ' ' 1,726,453 ' ' 1,842,292 ' ' 1,738,771 ' ' 1,728,545 '\n",
      " ' 1,898,856 ' ' 1,894,061 ' ' 1,555,374 ' ' 1,610,160 ' ' 1,745,109 '\n",
      " ' 1,690,675 ' ' 1,645,136 ' ' 1,457,312 ' ' 1,597,756 ' ' 1,485,668 '\n",
      " ' 1,559,746 ' ' 1,795,465 ' ' 1,833,581 ' ' 1,442,858 ' ' 1,493,835 '\n",
      " ' 1,822,063 ' ' 1,731,826 ' ' 1,843,297 ' ' 1,445,135 ' ' 1,778,357 '\n",
      " ' 1,798,130 ' ' 1,606,968 ' ' 1,440,215 ' ' 1,877,112 ' ' 1,943,584 '\n",
      " ' 1,629,582 ' ' 1,735,172 ' ' 1,906,961 ' ' 1,394,009 ' ' 1,576,208 '\n",
      " ' 1,690,664 ' ' 1,890,982 ' ' 2,256,957 ' ' 2,305,335 ' ' 2,385,954 '\n",
      " ' 2,241,877 ' ' 2,263,641 ' ' 2,214,384 ' ' 2,370,347 ' ' 2,288,758 '\n",
      " ' 2,307,231 ' ' 2,262,196 ' ' 2,356,439 ' ' 2,408,172 ' ' 2,354,442 '\n",
      " ' 2,236,232 ' ' 2,135,153 ' ' 2,298,775 ' ' 1,952,754 ' ' 2,090,245 '\n",
      " ' 2,293,497 ' ' 2,175,101 ' ' 2,203,279 ' ' 2,275,613 ' ' 2,274,680 '\n",
      " ' 2,198,816 ' ' 2,379,206 ' ' 2,238,783 ' ' 1,994,350 ' ' 2,258,065 '\n",
      " ' 2,292,931 ' ' 2,122,806 ' ' 2,293,314 ' ' 2,320,395 ' ' 2,402,158 '\n",
      " ' 2,359,462 ' ' 2,376,567 ' ' 2,321,402 ' ' 2,397,826 ' ' 2,307,042 '\n",
      " ' 2,380,834 ' ' 2,351,217 ' ' 2,331,096 ' ' 2,313,319 ' ' 2,293,852 '\n",
      " ' 2,316,245 ' ' 2,351,812 ' ' 2,370,902 ' ' 2,295,894 ' ' 2,379,353 '\n",
      " ' 2,386,171 ' ' 2,326,978 ' ' 2,341,971 ' ' 2,400,335 ' ' 2,323,897 '\n",
      " ' 2,330,796 ' ' 2,294,112 ' ' 2,418,271 ' ' 2,390,532 ' ' 2,414,955 '\n",
      " ' 2,390,040 ' ' 2,332,079 ' ' 989,745 ' ' 1,006,990 ' ' 1,101,141 '\n",
      " ' 957,802 ' ' 903,971 ' ' 942,627 ' ' 1,118,164 ' ' 1,026,591 '\n",
      " ' 1,089,466 ' ' 994,369 ' ' 957,509 ' ' 980,018 ' ' 1,155,956 '\n",
      " ' 1,155,598 ' ' 1,072,861 ' ' 1,168,752 ' ' 1,089,102 ' ' 1,121,951 '\n",
      " ' 955,552 ' ' 975,864 ' ' 1,138,023 ' ' 944,779 ' ' 1,071,593 '\n",
      " ' 958,412 ' ' 1,025,607 ' ' 903,913 ' ' 956,215 ' ' 1,101,740 '\n",
      " ' 956,758 ' ' 1,044,501 ' ' 943,004 ' ' 909,585 ' ' 984,560 ' ' 902,140 '\n",
      " ' 1,068,043 ' ' 1,050,971 ' ' 1,030,082 ' ' 1,134,982 ' ' 912,222 '\n",
      " ' 1,070,174 ']\n"
     ]
    }
   ],
   "source": [
    "#Checking for wrong entries like symbols -,?,#,*,etc.\n",
    "for col in df_csv.columns:\n",
    "    print('{} : {}'.format(col,df_csv[col].unique()))"
   ]
  },
  {
   "cell_type": "code",
   "execution_count": 124,
   "metadata": {},
   "outputs": [
    {
     "name": "stdout",
     "output_type": "stream",
     "text": [
      "<class 'pandas.core.frame.DataFrame'>\n",
      "RangeIndex: 172 entries, 0 to 171\n",
      "Data columns (total 4 columns):\n",
      " #   Column     Non-Null Count  Dtype\n",
      "---  ------     --------------  -----\n",
      " 0   income     172 non-null    int32\n",
      " 1   age        172 non-null    int32\n",
      " 2   card type  172 non-null    int32\n",
      " 3   usage      172 non-null    int32\n",
      "dtypes: int32(4)\n",
      "memory usage: 2.8 KB\n"
     ]
    }
   ],
   "source": [
    "#replace 'commas'\n",
    "df_csv = df_csv.replace(\",\",\"\", regex=True)\n",
    "#change dtype to int32\n",
    "df_csv = df_csv.astype('int32')\n",
    "#check if dtype has been changed\n",
    "df_csv.info()"
   ]
  },
  {
   "cell_type": "code",
   "execution_count": 125,
   "metadata": {},
   "outputs": [
    {
     "data": {
      "text/plain": [
       "income       0\n",
       "age          0\n",
       "card type    0\n",
       "usage        0\n",
       "dtype: int64"
      ]
     },
     "execution_count": 125,
     "metadata": {},
     "output_type": "execute_result"
    }
   ],
   "source": [
    "#check null\n",
    "df_csv.isnull().sum()"
   ]
  },
  {
   "cell_type": "code",
   "execution_count": 126,
   "metadata": {},
   "outputs": [
    {
     "data": {
      "text/plain": [
       "<AxesSubplot:>"
      ]
     },
     "execution_count": 126,
     "metadata": {},
     "output_type": "execute_result"
    },
    {
     "data": {
      "image/png": "[encoded data removed]",
      "text/plain": [
       "<Figure size 432x288 with 1 Axes>"
      ]
     },
     "metadata": {
      "needs_background": "light"
     },
     "output_type": "display_data"
    }
   ],
   "source": [
    "#draw null location in data\n",
    "sns.heatmap(df_csv.isnull(),cbar=False,cmap='viridis')"
   ]
  },
  {
   "cell_type": "code",
   "execution_count": 127,
   "metadata": {},
   "outputs": [
    {
     "data": {
      "text/plain": [
       "income       0\n",
       "age          0\n",
       "card type    0\n",
       "usage        0\n",
       "dtype: int64"
      ]
     },
     "execution_count": 127,
     "metadata": {},
     "output_type": "execute_result"
    }
   ],
   "source": [
    "#fill in empty or NA rows\n",
    "num_col = ['income', 'age',  'card type', 'usage']\n",
    "for col in num_col:\n",
    "    df_csv[col]=pd.to_numeric(df_csv[col])\n",
    "    df_csv[col].fillna(df_csv[col].mean(), inplace=True)\n",
    "df_csv.isnull().sum()"
   ]
  },
  {
   "cell_type": "code",
   "execution_count": 128,
   "metadata": {},
   "outputs": [
    {
     "data": {
      "text/plain": [
       "<AxesSubplot:>"
      ]
     },
     "execution_count": 128,
     "metadata": {},
     "output_type": "execute_result"
    },
    {
     "data": {
      "image/png": "[encoded data removed]",
      "text/plain": [
       "<Figure size 360x360 with 2 Axes>"
      ]
     },
     "metadata": {
      "needs_background": "light"
     },
     "output_type": "display_data"
    }
   ],
   "source": [
    "plt.figure(figsize=(5,5))\n",
    "sns.heatmap(df_csv.corr(),cbar=True,annot=True,cmap='Blues')"
   ]
  },
  {
   "cell_type": "code",
   "execution_count": 129,
   "metadata": {},
   "outputs": [
    {
     "data": {
      "text/plain": [
       "<AxesSubplot:xlabel='age', ylabel='Count'>"
      ]
     },
     "execution_count": 129,
     "metadata": {},
     "output_type": "execute_result"
    },
    {
     "data": {
      "image/png": "[encoded data removed]",
      "text/plain": [
       "<Figure size 432x288 with 1 Axes>"
      ]
     },
     "metadata": {
      "needs_background": "light"
     },
     "output_type": "display_data"
    }
   ],
   "source": [
    "sns.histplot(df_csv.age,bins=30)"
   ]
  },
  {
   "cell_type": "code",
   "execution_count": 130,
   "metadata": {},
   "outputs": [
    {
     "data": {
      "text/plain": [
       "Text(0, 0.5, 'usage')"
      ]
     },
     "execution_count": 130,
     "metadata": {},
     "output_type": "execute_result"
    },
    {
     "data": {
      "image/png": "[encoded data removed]",
      "text/plain": [
       "<Figure size 720x720 with 1 Axes>"
      ]
     },
     "metadata": {
      "needs_background": "light"
     },
     "output_type": "display_data"
    }
   ],
   "source": [
    "plt.figure(figsize=(10,10))\n",
    "plt.scatter(x='income',y='usage',data=df_csv)\n",
    "plt.xlabel('income')\n",
    "plt.ylabel('usage')"
   ]
  },
  {
   "cell_type": "code",
   "execution_count": 131,
   "metadata": {},
   "outputs": [
    {
     "data": {
      "text/plain": [
       "Text(0, 0.5, 'usage')"
      ]
     },
     "execution_count": 131,
     "metadata": {},
     "output_type": "execute_result"
    },
    {
     "data": {
      "image/png": "[encoded data removed]",
      "text/plain": [
       "<Figure size 720x720 with 1 Axes>"
      ]
     },
     "metadata": {
      "needs_background": "light"
     },
     "output_type": "display_data"
    }
   ],
   "source": [
    "plt.figure(figsize=(10,10))\n",
    "plt.scatter(x='age',y='usage',data=df_csv)\n",
    "plt.xlabel('age')\n",
    "plt.ylabel('usage')"
   ]
  },
  {
   "cell_type": "code",
   "execution_count": 132,
   "metadata": {},
   "outputs": [
    {
     "data": {
      "text/plain": [
       "<AxesSubplot:xlabel='age', ylabel='usage'>"
      ]
     },
     "execution_count": 132,
     "metadata": {},
     "output_type": "execute_result"
    },
    {
     "data": {
      "image/png": "[encoded data removed]",
      "text/plain": [
       "<Figure size 432x288 with 1 Axes>"
      ]
     },
     "metadata": {
      "needs_background": "light"
     },
     "output_type": "display_data"
    }
   ],
   "source": [
    "sns.boxplot(x='age',y='usage',data=df_csv)"
   ]
  },
  {
   "cell_type": "code",
   "execution_count": 133,
   "metadata": {},
   "outputs": [
    {
     "data": {
      "text/plain": [
       "<AxesSubplot:xlabel='income', ylabel='usage'>"
      ]
     },
     "execution_count": 133,
     "metadata": {},
     "output_type": "execute_result"
    },
    {
     "data": {
      "image/png": "[encoded data removed]",
      "text/plain": [
       "<Figure size 432x288 with 1 Axes>"
      ]
     },
     "metadata": {
      "needs_background": "light"
     },
     "output_type": "display_data"
    }
   ],
   "source": [
    "sns.boxplot(x='income',y='usage',data=df_csv)"
   ]
  },
  {
   "cell_type": "code",
   "execution_count": 134,
   "metadata": {},
   "outputs": [],
   "source": [
    "ageGroup20 = df_csv.loc[(df_csv['age'] == 20),\n",
    "                    \"usage\"]\n",
    "ageGroup30 = df_csv.loc[(df_csv['age'] == 30),\n",
    "                    \"usage\"]\n",
    "ageGroup40 = df_csv.loc[(df_csv['age'] == 40),\n",
    "                    \"usage\"]\n",
    "ageGroup50 = df_csv.loc[(df_csv['age'] == 50),\n",
    "                    \"usage\"]\n",
    "ageGroup60 = df_csv.loc[(df_csv['age'] == 60),\n",
    "                    \"usage\"]"
   ]
  },
  {
   "cell_type": "code",
   "execution_count": 135,
   "metadata": {},
   "outputs": [
    {
     "name": "stdout",
     "output_type": "stream",
     "text": [
      "Age group 20 mean: 1221800.4722222222\n",
      "\n",
      "Age group 20 describe:\n",
      "count    3.600000e+01\n",
      "mean     1.221800e+06\n",
      "std      1.128375e+05\n",
      "min      1.009959e+06\n",
      "25%      1.160854e+06\n",
      "50%      1.230862e+06\n",
      "75%      1.310660e+06\n",
      "max      1.383399e+06\n",
      "Name: usage, dtype: float64\n",
      "\n",
      "Age group 20, 75th quantile: 1310660.0\n",
      "\n",
      "Age group 20 histogram:\n"
     ]
    },
    {
     "data": {
      "image/png": "[encoded data removed]",
      "text/plain": [
       "<Figure size 432x288 with 1 Axes>"
      ]
     },
     "metadata": {
      "needs_background": "light"
     },
     "output_type": "display_data"
    }
   ],
   "source": [
    "a20m = ageGroup20.mean()\n",
    "print(\"Age group 20 mean:\",a20m)\n",
    "\n",
    "print(\"\\nAge group 20 describe:\")\n",
    "print(ageGroup20.describe())\n",
    "\n",
    "quantile75 = ageGroup20.quantile(0.75)\n",
    "print(\"\\nAge group 20, 75th quantile:\",quantile75)\n",
    "\n",
    "print(\"\\nAge group 20 histogram:\")\n",
    "hist = ageGroup20.hist(bins=6)\n",
    "\n"
   ]
  },
  {
   "cell_type": "code",
   "execution_count": 136,
   "metadata": {},
   "outputs": [],
   "source": [
    "from sklearn.cluster import KMeans"
   ]
  },
  {
   "cell_type": "code",
   "execution_count": 137,
   "metadata": {},
   "outputs": [],
   "source": [
    "X = df_csv[[\"income\", \"age\", \"card type\"]].values.astype('int32')\n",
    "# X = df_csv[[\"income\", \"age\", \"usage\"]].values.astype('int32')"
   ]
  },
  {
   "cell_type": "code",
   "execution_count": 138,
   "metadata": {},
   "outputs": [
    {
     "data": {
      "text/plain": [
       "KMeans(n_clusters=5)"
      ]
     },
     "execution_count": 138,
     "metadata": {},
     "output_type": "execute_result"
    }
   ],
   "source": [
    "kmeans = KMeans(n_clusters=5)\n",
    "kmeans.fit(X)"
   ]
  },
  {
   "cell_type": "code",
   "execution_count": 139,
   "metadata": {},
   "outputs": [],
   "source": [
    "y_kmeans = kmeans.predict(X)"
   ]
  },
  {
   "cell_type": "code",
   "execution_count": 140,
   "metadata": {},
   "outputs": [
    {
     "data": {
      "text/plain": [
       "array([0, 0, 3, 0, 3, 3, 3, 3, 0, 3, 3, 0, 0, 0, 3, 0, 3, 3, 0, 3, 3, 3,\n",
       "       3, 0, 0, 0, 0, 0, 0, 0, 0, 3, 3, 0, 0, 0, 2, 4, 2, 2, 2, 4, 0, 0,\n",
       "       2, 0, 2, 0, 2, 2, 0, 2, 4, 4, 4, 2, 4, 2, 2, 0, 2, 2, 4, 2, 2, 0,\n",
       "       2, 2, 2, 2, 2, 2, 4, 4, 4, 1, 4, 1, 4, 1, 4, 1, 4, 4, 4, 4, 4, 4,\n",
       "       4, 4, 4, 4, 4, 4, 1, 4, 1, 1, 1, 4, 4, 4, 1, 1, 1, 1, 1, 1, 1, 1,\n",
       "       1, 1, 1, 1, 1, 1, 1, 1, 1, 1, 1, 1, 1, 1, 1, 1, 1, 1, 1, 1, 1, 1,\n",
       "       3, 3, 3, 3, 3, 3, 3, 3, 3, 3, 3, 3, 3, 3, 3, 3, 3, 3, 3, 3, 3, 3,\n",
       "       3, 3, 3, 3, 3, 3, 3, 3, 3, 3, 3, 3, 3, 3, 3, 3, 3, 3], dtype=int32)"
      ]
     },
     "execution_count": 140,
     "metadata": {},
     "output_type": "execute_result"
    }
   ],
   "source": [
    "y_kmeans"
   ]
  },
  {
   "cell_type": "code",
   "execution_count": 141,
   "metadata": {},
   "outputs": [],
   "source": [
    "df_y = pd.DataFrame(y_kmeans, columns = {\"cluster\"})"
   ]
  },
  {
   "cell_type": "code",
   "execution_count": 142,
   "metadata": {},
   "outputs": [
    {
     "data": {
      "text/html": [
       "<div>\n",
       "<style scoped>\n",
       "    .dataframe tbody tr th:only-of-type {\n",
       "        vertical-align: middle;\n",
       "    }\n",
       "\n",
       "    .dataframe tbody tr th {\n",
       "        vertical-align: top;\n",
       "    }\n",
       "\n",
       "    .dataframe thead th {\n",
       "        text-align: right;\n",
       "    }\n",
       "</style>\n",
       "<table border=\"1\" class=\"dataframe\">\n",
       "  <thead>\n",
       "    <tr style=\"text-align: right;\">\n",
       "      <th></th>\n",
       "      <th>cluster</th>\n",
       "    </tr>\n",
       "  </thead>\n",
       "  <tbody>\n",
       "    <tr>\n",
       "      <th>0</th>\n",
       "      <td>0</td>\n",
       "    </tr>\n",
       "    <tr>\n",
       "      <th>1</th>\n",
       "      <td>0</td>\n",
       "    </tr>\n",
       "    <tr>\n",
       "      <th>2</th>\n",
       "      <td>3</td>\n",
       "    </tr>\n",
       "    <tr>\n",
       "      <th>3</th>\n",
       "      <td>0</td>\n",
       "    </tr>\n",
       "    <tr>\n",
       "      <th>4</th>\n",
       "      <td>3</td>\n",
       "    </tr>\n",
       "    <tr>\n",
       "      <th>...</th>\n",
       "      <td>...</td>\n",
       "    </tr>\n",
       "    <tr>\n",
       "      <th>167</th>\n",
       "      <td>3</td>\n",
       "    </tr>\n",
       "    <tr>\n",
       "      <th>168</th>\n",
       "      <td>3</td>\n",
       "    </tr>\n",
       "    <tr>\n",
       "      <th>169</th>\n",
       "      <td>3</td>\n",
       "    </tr>\n",
       "    <tr>\n",
       "      <th>170</th>\n",
       "      <td>3</td>\n",
       "    </tr>\n",
       "    <tr>\n",
       "      <th>171</th>\n",
       "      <td>3</td>\n",
       "    </tr>\n",
       "  </tbody>\n",
       "</table>\n",
       "<p>172 rows × 1 columns</p>\n",
       "</div>"
      ],
      "text/plain": [
       "     cluster\n",
       "0          0\n",
       "1          0\n",
       "2          3\n",
       "3          0\n",
       "4          3\n",
       "..       ...\n",
       "167        3\n",
       "168        3\n",
       "169        3\n",
       "170        3\n",
       "171        3\n",
       "\n",
       "[172 rows x 1 columns]"
      ]
     },
     "execution_count": 142,
     "metadata": {},
     "output_type": "execute_result"
    }
   ],
   "source": [
    "df_y"
   ]
  },
  {
   "cell_type": "code",
   "execution_count": 143,
   "metadata": {},
   "outputs": [],
   "source": [
    "df_csv[\"cluster\"] = df_y[\"cluster\"]"
   ]
  },
  {
   "cell_type": "code",
   "execution_count": 144,
   "metadata": {},
   "outputs": [
    {
     "data": {
      "text/html": [
       "<div>\n",
       "<style scoped>\n",
       "    .dataframe tbody tr th:only-of-type {\n",
       "        vertical-align: middle;\n",
       "    }\n",
       "\n",
       "    .dataframe tbody tr th {\n",
       "        vertical-align: top;\n",
       "    }\n",
       "\n",
       "    .dataframe thead th {\n",
       "        text-align: right;\n",
       "    }\n",
       "</style>\n",
       "<table border=\"1\" class=\"dataframe\">\n",
       "  <thead>\n",
       "    <tr style=\"text-align: right;\">\n",
       "      <th></th>\n",
       "      <th>income</th>\n",
       "      <th>age</th>\n",
       "      <th>card type</th>\n",
       "      <th>usage</th>\n",
       "      <th>cluster</th>\n",
       "    </tr>\n",
       "  </thead>\n",
       "  <tbody>\n",
       "    <tr>\n",
       "      <th>0</th>\n",
       "      <td>2421921</td>\n",
       "      <td>20</td>\n",
       "      <td>3</td>\n",
       "      <td>1173910</td>\n",
       "      <td>0</td>\n",
       "    </tr>\n",
       "    <tr>\n",
       "      <th>1</th>\n",
       "      <td>2407332</td>\n",
       "      <td>20</td>\n",
       "      <td>2</td>\n",
       "      <td>1166647</td>\n",
       "      <td>0</td>\n",
       "    </tr>\n",
       "    <tr>\n",
       "      <th>2</th>\n",
       "      <td>2105905</td>\n",
       "      <td>20</td>\n",
       "      <td>2</td>\n",
       "      <td>1359753</td>\n",
       "      <td>3</td>\n",
       "    </tr>\n",
       "    <tr>\n",
       "      <th>3</th>\n",
       "      <td>2446025</td>\n",
       "      <td>20</td>\n",
       "      <td>2</td>\n",
       "      <td>1325813</td>\n",
       "      <td>0</td>\n",
       "    </tr>\n",
       "    <tr>\n",
       "      <th>4</th>\n",
       "      <td>2016589</td>\n",
       "      <td>20</td>\n",
       "      <td>2</td>\n",
       "      <td>1383335</td>\n",
       "      <td>3</td>\n",
       "    </tr>\n",
       "    <tr>\n",
       "      <th>...</th>\n",
       "      <td>...</td>\n",
       "      <td>...</td>\n",
       "      <td>...</td>\n",
       "      <td>...</td>\n",
       "      <td>...</td>\n",
       "    </tr>\n",
       "    <tr>\n",
       "      <th>167</th>\n",
       "      <td>2064319</td>\n",
       "      <td>60</td>\n",
       "      <td>7</td>\n",
       "      <td>1050971</td>\n",
       "      <td>3</td>\n",
       "    </tr>\n",
       "    <tr>\n",
       "      <th>168</th>\n",
       "      <td>1976923</td>\n",
       "      <td>60</td>\n",
       "      <td>2</td>\n",
       "      <td>1030082</td>\n",
       "      <td>3</td>\n",
       "    </tr>\n",
       "    <tr>\n",
       "      <th>169</th>\n",
       "      <td>1967711</td>\n",
       "      <td>60</td>\n",
       "      <td>0</td>\n",
       "      <td>1134982</td>\n",
       "      <td>3</td>\n",
       "    </tr>\n",
       "    <tr>\n",
       "      <th>170</th>\n",
       "      <td>2078444</td>\n",
       "      <td>60</td>\n",
       "      <td>9</td>\n",
       "      <td>912222</td>\n",
       "      <td>3</td>\n",
       "    </tr>\n",
       "    <tr>\n",
       "      <th>171</th>\n",
       "      <td>2119178</td>\n",
       "      <td>60</td>\n",
       "      <td>10</td>\n",
       "      <td>1070174</td>\n",
       "      <td>3</td>\n",
       "    </tr>\n",
       "  </tbody>\n",
       "</table>\n",
       "<p>172 rows × 5 columns</p>\n",
       "</div>"
      ],
      "text/plain": [
       "      income  age  card type    usage  cluster\n",
       "0    2421921   20          3  1173910        0\n",
       "1    2407332   20          2  1166647        0\n",
       "2    2105905   20          2  1359753        3\n",
       "3    2446025   20          2  1325813        0\n",
       "4    2016589   20          2  1383335        3\n",
       "..       ...  ...        ...      ...      ...\n",
       "167  2064319   60          7  1050971        3\n",
       "168  1976923   60          2  1030082        3\n",
       "169  1967711   60          0  1134982        3\n",
       "170  2078444   60          9   912222        3\n",
       "171  2119178   60         10  1070174        3\n",
       "\n",
       "[172 rows x 5 columns]"
      ]
     },
     "metadata": {},
     "output_type": "display_data"
    }
   ],
   "source": [
    "display(df_csv)"
   ]
  },
  {
   "cell_type": "code",
   "execution_count": 145,
   "metadata": {},
   "outputs": [
    {
     "name": "stdout",
     "output_type": "stream",
     "text": [
      "cluster, usage:  [0, 1420355.5]\n",
      "cluster, usage:  [1, 2379316.25]\n",
      "cluster, usage:  [2, 1837988.5]\n",
      "cluster, usage:  [3, 1155687.5]\n",
      "cluster, usage:  [4, 2298775.0]\n"
     ]
    }
   ],
   "source": [
    "#extract each cluster cost\n",
    "array = {}\n",
    "for x in range(5):\n",
    "    temp_cluster_info = df_csv.loc[(df_csv['cluster'] == x),\n",
    "                    \"usage\"]\n",
    "    array[x] = temp_cluster_info.quantile(0.75)\n",
    "\n",
    "for x in range(5):\n",
    "    print(\"cluster, usage: \", [x, array[x]])"
   ]
  },
  {
   "cell_type": "code",
   "execution_count": 152,
   "metadata": {},
   "outputs": [],
   "source": [
    "x = [[2421921, 20, 3]]\n",
    "cluster_result = kmeans.predict(x)"
   ]
  },
  {
   "cell_type": "code",
   "execution_count": 153,
   "metadata": {},
   "outputs": [
    {
     "data": {
      "text/plain": [
       "0"
      ]
     },
     "execution_count": 153,
     "metadata": {},
     "output_type": "execute_result"
    }
   ],
   "source": [
    "cluster_result[0]"
   ]
  },
  {
   "cell_type": "code",
   "execution_count": 110,
   "metadata": {},
   "outputs": [
    {
     "name": "stdout",
     "output_type": "stream",
     "text": [
      "cluster 0 mean: 2210551.08\n",
      "\n",
      "cluster 0 describe:\n",
      "count    2.500000e+01\n",
      "mean     2.210551e+06\n",
      "std      1.546536e+05\n",
      "min      1.833581e+06\n",
      "25%      2.135153e+06\n",
      "50%      2.258065e+06\n",
      "75%      2.305335e+06\n",
      "max      2.408172e+06\n",
      "Name: usage, dtype: float64\n",
      "\n",
      "cluster 0, 75th quantile: 2305335.0\n",
      "\n",
      "cluster 0 histogram:\n"
     ]
    },
    {
     "data": {
      "image/png": "[encoded data removed]",
      "text/plain": [
       "<Figure size 432x288 with 1 Axes>"
      ]
     },
     "metadata": {
      "needs_background": "light"
     },
     "output_type": "display_data"
    }
   ],
   "source": [
    "c0m = cluster0.mean()\n",
    "print(\"cluster 0 mean:\",c0m)\n",
    "\n",
    "print(\"\\ncluster 0 describe:\")\n",
    "print(cluster0.describe())\n",
    "\n",
    "quantile75 = cluster0.quantile(0.75)\n",
    "print(\"\\ncluster 0, 75th quantile:\",quantile75)\n",
    "\n",
    "print(\"\\ncluster 0 histogram:\")\n",
    "hist = cluster0.hist(bins=6)"
   ]
  },
  {
   "cell_type": "code",
   "execution_count": 111,
   "metadata": {},
   "outputs": [
    {
     "name": "stdout",
     "output_type": "stream",
     "text": [
      "cluster 1 mean: 1318640.0\n",
      "\n",
      "cluster 1 describe:\n",
      "count    2.800000e+01\n",
      "mean     1.318640e+06\n",
      "std      2.046770e+05\n",
      "min      1.017989e+06\n",
      "25%      1.167133e+06\n",
      "50%      1.271114e+06\n",
      "75%      1.464401e+06\n",
      "max      1.778357e+06\n",
      "Name: usage, dtype: float64\n",
      "\n",
      "cluster 1, 75th quantile: 1464401.0\n",
      "\n",
      "cluster 1 histogram:\n"
     ]
    },
    {
     "data": {
      "image/png": "[encoded data removed]",
      "text/plain": [
       "<Figure size 432x288 with 1 Axes>"
      ]
     },
     "metadata": {
      "needs_background": "light"
     },
     "output_type": "display_data"
    }
   ],
   "source": [
    "c1m = cluster1.mean()\n",
    "print(\"cluster 1 mean:\",c1m)\n",
    "\n",
    "print(\"\\ncluster 1 describe:\")\n",
    "print(cluster1.describe())\n",
    "\n",
    "quantile75 = cluster1.quantile(0.75)\n",
    "print(\"\\ncluster 1, 75th quantile:\",quantile75)\n",
    "\n",
    "print(\"\\ncluster 1 histogram:\")\n",
    "hist = cluster1.hist(bins=6)"
   ]
  },
  {
   "cell_type": "code",
   "execution_count": 17,
   "metadata": {},
   "outputs": [],
   "source": [
    "from sklearn import svm"
   ]
  },
  {
   "cell_type": "code",
   "execution_count": 23,
   "metadata": {},
   "outputs": [],
   "source": [
    "#classify 목표(target 또는 y) class/레이블 따로 정리\n",
    "y = df_csv['usage'].values.astype(np.int)"
   ]
  },
  {
   "cell_type": "code",
   "execution_count": 24,
   "metadata": {},
   "outputs": [],
   "source": [
    "X = df_csv[[\"income\", \"age\", \"card type\"]].values.astype('int32')"
   ]
  },
  {
   "cell_type": "code",
   "execution_count": 25,
   "metadata": {},
   "outputs": [
    {
     "name": "stdout",
     "output_type": "stream",
     "text": [
      "[1117197 1282531 1224096 1059599 1178711 1261189 1015987 1298412 1372523\n",
      " 1287287 1322918 1228586 1306713 1169504 1062700 1052955 1140772 1101403\n",
      " 1136329 1278865 1299600 1349728 1239816 1168378 1151738 1325184 1062788\n",
      " 1203936 1281897 1027735 1142029 1190064 1303510 1108082 1111286 1164704\n",
      " 1775425 1789006 1540323 1849319 1543289 1740331 1483248 1663035 1586415\n",
      " 1933032 1525433 1847372 1596100 1948187 1462307 1560144 1785485 1872127\n",
      " 1457493 1439553 1615703 1548909 1911490 1456834 1626820 1880089 1866202\n",
      " 1540980 1500746 1648320 1510470 1887866 1863732 1630875 1426400 1653923\n",
      " 2124231 2169765 2416381 2307989 2090826 2243118 2376214 1993989 1981610\n",
      " 1993906 2130280 2402263 2281682 2124931 2331565 2322903 2086486 2047174\n",
      " 2304932 2400952 2203705 2369854 2181220 2009759 2217246 2278006 2061667\n",
      " 2170096 2133263 2255521 2374486 2295352 2312626 2331015 2368770 2412726\n",
      " 2364279 2395458 2350057 2309347 2332589 2377599 2332087 2314461 2343380\n",
      " 2380851 2336986 2386756 2342839 2385755 2316234 2349190 2300040 2414966\n",
      " 2365377 2306310 2300031 2413659 2354170 2352705 1116925 1049559 1064869\n",
      "  982870 1043835 1065898  997850 1017452 1051566 1068070 1057253  958169\n",
      " 1083345  943017 1139843 1007689 1044539 1054519 1085636 1054490 1041646\n",
      " 1164827  931916 1145466 1048656 1082442 1165139 1122182 1127435 1046023\n",
      "  985414  953197  911880  931286  988223 1129958 1123040  954071 1134736\n",
      " 1044359]\n",
      "[[2189679      29       2]\n",
      " [2459893      25       3]\n",
      " [2438348      20       3]\n",
      " [2303862      21       2]\n",
      " [2117734      27       2]\n",
      " [2552023      25       2]\n",
      " [2288232      26       3]\n",
      " [2367898      27       1]\n",
      " [2018835      23       2]\n",
      " [2402183      25       3]\n",
      " [2114545      22       3]\n",
      " [2336464      30       2]\n",
      " [2339406      20       2]\n",
      " [2093628      27       2]\n",
      " [2330156      22       2]\n",
      " [2214742      24       2]\n",
      " [2202381      21       2]\n",
      " [2344959      30       3]\n",
      " [2161671      24       1]\n",
      " [2105046      27       2]\n",
      " [2015378      28       1]\n",
      " [2387988      22       1]\n",
      " [2202225      23       1]\n",
      " [2286808      20       1]\n",
      " [2187527      21       2]\n",
      " [2219708      26       2]\n",
      " [2239339      24       2]\n",
      " [2323997      28       2]\n",
      " [2074685      26       1]\n",
      " [2316290      24       2]\n",
      " [2553391      28       3]\n",
      " [2319949      29       3]\n",
      " [2135574      29       2]\n",
      " [2500077      29       1]\n",
      " [2147400      21       1]\n",
      " [2068416      29       3]\n",
      " [3136581      36       2]\n",
      " [2721474      38       5]\n",
      " [3887032      32       3]\n",
      " [3863677      31       3]\n",
      " [2890831      39       5]\n",
      " [3835368      34       4]\n",
      " [3933290      34       2]\n",
      " [2595783      38       5]\n",
      " [3417514      35       5]\n",
      " [3187883      34       2]\n",
      " [3743684      38       2]\n",
      " [3092143      35       2]\n",
      " [3410953      38       4]\n",
      " [2664347      34       3]\n",
      " [3730881      35       3]\n",
      " [3015239      36       6]\n",
      " [3746158      37       6]\n",
      " [3870601      33       2]\n",
      " [3706413      38       5]\n",
      " [3324389      33       4]\n",
      " [3472939      36       2]\n",
      " [3725902      33       3]\n",
      " [2559437      34       3]\n",
      " [2508729      36       4]\n",
      " [2979067      33       5]\n",
      " [3685663      33       2]\n",
      " [3336037      31       4]\n",
      " [3804481      39       4]\n",
      " [2932075      36       4]\n",
      " [3352238      37       5]\n",
      " [2569881      35       2]\n",
      " [2608322      37       2]\n",
      " [3887166      38       2]\n",
      " [2742885      38       2]\n",
      " [2898609      34       5]\n",
      " [2866185      37       1]\n",
      " [4483451      43       5]\n",
      " [4347729      43       7]\n",
      " [4074514      45       5]\n",
      " [4247520      48       7]\n",
      " [4055358      47       7]\n",
      " [4132948      42       6]\n",
      " [4084293      41       6]\n",
      " [4023351      47       8]\n",
      " [4033035      40       6]\n",
      " [4476349      47       5]\n",
      " [4267539      46       4]\n",
      " [4290296      41       7]\n",
      " [4408966      42       6]\n",
      " [4470403      49       8]\n",
      " [4473697      43       4]\n",
      " [4018689      47       6]\n",
      " [4425891      44       5]\n",
      " [4150225      46       7]\n",
      " [4406538      46       5]\n",
      " [4152740      41       5]\n",
      " [4273898      47       6]\n",
      " [4024290      45       5]\n",
      " [4237743      43       4]\n",
      " [4146876      40       5]\n",
      " [4314012      44       6]\n",
      " [4329557      48       7]\n",
      " [4275473      46       5]\n",
      " [4370489      43       5]\n",
      " [4290553      47       7]\n",
      " [4131172      48       6]\n",
      " [4517549      56       1]\n",
      " [4618676      55       1]\n",
      " [4578762      57       1]\n",
      " [4508321      52      10]\n",
      " [4517839      51       5]\n",
      " [4647644      56       4]\n",
      " [4582489      50       2]\n",
      " [4517573      51       6]\n",
      " [4518269      55      10]\n",
      " [4563915      58       8]\n",
      " [4577545      54       4]\n",
      " [4576642      59       5]\n",
      " [4515319      57       7]\n",
      " [4591405      51       1]\n",
      " [4595525      51       2]\n",
      " [4507433      55       1]\n",
      " [4527486      54       4]\n",
      " [4584324      51       3]\n",
      " [4548628      57       5]\n",
      " [4504750      53       4]\n",
      " [4534211      58       2]\n",
      " [4639512      59       4]\n",
      " [4590376      51       9]\n",
      " [4517454      55       7]\n",
      " [4515319      53       2]\n",
      " [4586870      57       8]\n",
      " [4630630      56       8]\n",
      " [4610076      55       3]\n",
      " [4523057      55       2]\n",
      " [4628989      58       2]\n",
      " [2093863      65       7]\n",
      " [2098384      73       8]\n",
      " [2026613      68       9]\n",
      " [2039431      84       4]\n",
      " [1971564      76       9]\n",
      " [1960641      61       2]\n",
      " [2105009      87      10]\n",
      " [1954621      72       3]\n",
      " [1994359      88       1]\n",
      " [2087151      67       9]\n",
      " [1970546      73       4]\n",
      " [1957280      73       7]\n",
      " [2010976      82       7]\n",
      " [2002157      68       6]\n",
      " [2125373      87       9]\n",
      " [1987595      69       2]\n",
      " [2062847      73       9]\n",
      " [1999331      66       4]\n",
      " [2034911      79       4]\n",
      " [2012024      63       5]\n",
      " [1959126      80       3]\n",
      " [2026337      86       7]\n",
      " [2084355      68       6]\n",
      " [1953798      84       9]\n",
      " [2128384      76      10]\n",
      " [1966063      63       6]\n",
      " [2126913      88       1]\n",
      " [2128843      83       4]\n",
      " [1989022      79       9]\n",
      " [1995659      67      10]\n",
      " [2020698      82       5]\n",
      " [2111420      72       7]\n",
      " [1996148      63       9]\n",
      " [2029078      64       1]\n",
      " [1951403      81      10]\n",
      " [2016829      86       4]\n",
      " [1998083      70       7]\n",
      " [1959354      61       3]\n",
      " [2038106      70       3]\n",
      " [2074500      81       6]]\n"
     ]
    }
   ],
   "source": [
    "print(y)\n",
    "print(X)"
   ]
  },
  {
   "cell_type": "code",
   "execution_count": 27,
   "metadata": {},
   "outputs": [],
   "source": [
    "regr=svm.SVR()"
   ]
  },
  {
   "cell_type": "code",
   "execution_count": 28,
   "metadata": {},
   "outputs": [
    {
     "data": {
      "text/plain": [
       "SVR()"
      ]
     },
     "execution_count": 28,
     "metadata": {},
     "output_type": "execute_result"
    }
   ],
   "source": [
    "regr.fit(X,y)"
   ]
  },
  {
   "cell_type": "code",
   "execution_count": 29,
   "metadata": {},
   "outputs": [
    {
     "data": {
      "text/plain": [
       "array([1540605.64315091])"
      ]
     },
     "execution_count": 29,
     "metadata": {},
     "output_type": "execute_result"
    }
   ],
   "source": [
    "regr.predict([[2367898, 25, 3]])"
   ]
  }
 ],
 "metadata": {
  "kernelspec": {
   "display_name": "Python 3",
   "language": "python",
   "name": "python3"
  },
  "language_info": {
   "codemirror_mode": {
    "name": "ipython",
    "version": 3
   },
   "file_extension": ".py",
   "mimetype": "text/x-python",
   "name": "python",
   "nbconvert_exporter": "python",
   "pygments_lexer": "ipython3",
   "version": "3.7.3"
  },
  "toc": {
   "base_numbering": 1,
   "nav_menu": {},
   "number_sections": true,
   "sideBar": true,
   "skip_h1_title": false,
   "title_cell": "Table of Contents",
   "title_sidebar": "Contents",
   "toc_cell": false,
   "toc_position": {},
   "toc_section_display": true,
   "toc_window_display": false
  }
 },
 "nbformat": 4,
 "nbformat_minor": 4
}
